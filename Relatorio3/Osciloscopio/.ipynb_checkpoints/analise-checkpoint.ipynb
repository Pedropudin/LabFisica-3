{
 "cells": [
  {
   "cell_type": "markdown",
   "id": "992aface",
   "metadata": {},
   "source": [
    "Quantidade desnecessariamente grande de importações"
   ]
  },
  {
   "cell_type": "code",
   "execution_count": 1,
   "id": "b9d0139d",
   "metadata": {},
   "outputs": [],
   "source": [
    "import os\n",
    "import matplotlib.pyplot as plt\n",
    "import numpy as np\n",
    "from scipy.optimize import curve_fit\n",
    "import random\n",
    "import math\n",
    "import statistics as sts\n",
    "from LabIFSC import *"
   ]
  },
  {
   "cell_type": "markdown",
   "id": "50bb6813",
   "metadata": {},
   "source": [
    "Definindo funções que serão úteis no código"
   ]
  },
  {
   "cell_type": "code",
   "execution_count": 2,
   "id": "a73ceb20",
   "metadata": {},
   "outputs": [],
   "source": [
    "def dados(name):\n",
    "    '''Recebe um arquivo csv e retorna os dados x e y na forma de listas'''\n",
    "    \n",
    "    with open('DadosOsciloscopio/' + name,'r') as file:\n",
    "        file.readline()\n",
    "        file.readline()\n",
    "        data = file.readlines()\n",
    "        x = [] #seconds\n",
    "        y = [] #volts\n",
    "        for i in data:\n",
    "            i = i.split(\", \")\n",
    "            x.append(float(i[0]))\n",
    "            y.append(float(i[1]))\n",
    "    \n",
    "    return x,y\n",
    "\n",
    "def plot(x,y,xajust = 1,yajust = 1) -> None:\n",
    "    '''Plota o gráfico de x por y usando matplotlib'''\n",
    "    \n",
    "    assert len(x)==len(y), \"Os dois devem ter o mesmo tamanho\"\n",
    "    tam = len(x)\n",
    "    \n",
    "    for i in range(tam):\n",
    "        x[i] *= xajust\n",
    "        y[i] *= yajust\n",
    "    \n",
    "    plt.plot(x,y)\n",
    "    plt.xlabel('Tempo (' + str(xajust) + 's)')\n",
    "    plt.ylabel('Voltagem(' + str(yajust) + 'V)')\n",
    "    plt.show()\n",
    "    \n",
    "    return None\n",
    "\n",
    "def t_meio(x:list,y:list,quant,t_terco = False):\n",
    "    '''Encontra o t_{1/2} e o t_{1/3} de uma função'''\n",
    "    assert len(y) == len(x), 'Os dois devem ter o mesmo tamanho'\n",
    "    tam = len(x)\n",
    "    \n",
    "    if t_terco:\n",
    "        t = []\n",
    "        for _ in range(quant):\n",
    "            n = random.randint(0,tam//3)\n",
    "            x1 = x[n]\n",
    "            y1 = y[n]\n",
    "            for i in range(tam):\n",
    "                if y[i] <= y1/3:\n",
    "                    t.append(x[i]-x1)\n",
    "                    break\n",
    "\n",
    "        return t        \n",
    "    \n",
    "    else:\n",
    "\n",
    "        t = []\n",
    "        for _ in range(quant):\n",
    "            n = random.randint(0,tam//3)\n",
    "            x1 = x[n]\n",
    "            y1 = y[n]\n",
    "            for i in range(tam):\n",
    "                if y[i] <= y1/2:\n",
    "                    t.append(x[i]-x1)\n",
    "                    break\n",
    "\n",
    "        return t\n",
    "    \n",
    "def exponential(t,v0,w,c):\n",
    "    return v0*np.exp(-t/w) + c\n",
    "\n",
    "def senoidal(t,v0,f):\n",
    "    return v0*math.sin(2*math.pi*f*t)"
   ]
  },
  {
   "cell_type": "code",
   "execution_count": 76,
   "id": "e7816614",
   "metadata": {},
   "outputs": [
    {
     "name": "stdout",
     "output_type": "stream",
     "text": [
      "[0.016725, 0.016524999999999998, 0.016625]\n",
      "16.6±0.1 s\n",
      "60.2±0.4 s⁻¹\n"
     ]
    }
   ],
   "source": [
    "with open('DadosOsciloscopio/trans_9_1.csv','r') as file:\n",
    "    file.readline()\n",
    "    file.readline()\n",
    "    data = file.readlines()\n",
    "    x = [] #seconds\n",
    "    y = [] #volts\n",
    "    search = True\n",
    "    time = []\n",
    "    for i in data: #2_000 dados aqui\n",
    "        x,y = map(float,i.split(\", \"))\n",
    "        if search:\n",
    "            if y>=4:\n",
    "                time.append(x)\n",
    "                search = False\n",
    "        elif y<=3:\n",
    "            search = True\n",
    "T1 = time[1] - time[0]\n",
    "T2 = time[2] - time[1]\n",
    "T3 = (time[2] - time[0])/2\n",
    "medidas = [T1,T2,T3]\n",
    "\n",
    "Tf = sts.mean(medidas)\n",
    "Tf_erro = sts.stdev(medidas)\n",
    "T = M((Tf,Tf_erro),'s')\n",
    "print(medidas)\n",
    "print(T*1000)\n",
    "print(1/T)"
   ]
  },
  {
   "cell_type": "markdown",
   "id": "30046c7a",
   "metadata": {},
   "source": [
    "Plotando os gráficos"
   ]
  },
  {
   "cell_type": "code",
   "execution_count": null,
   "id": "6a8e17b1",
   "metadata": {},
   "outputs": [],
   "source": [
    "names = os.listdir('DadosOsciloscopio')\n",
    "\n",
    "for name in names:\n",
    "    print(name)\n",
    "    plot(dados(name)[0],dados(name)[1])"
   ]
  },
  {
   "cell_type": "markdown",
   "id": "71139839",
   "metadata": {},
   "source": [
    "Analisando os gráficos"
   ]
  },
  {
   "cell_type": "code",
   "execution_count": null,
   "id": "12af569d",
   "metadata": {},
   "outputs": [],
   "source": [
    "x,y = dados('scope_7_1.csv')\n",
    "v = min(y)\n",
    "for i in range(len(y)):\n",
    "    y[i] -= v\n",
    "\n",
    "pontosx = [x[0]]\n",
    "pontosy = [y[0]]\n",
    "\n",
    "yBig = y[0]\n",
    "for i,val in enumerate(y):\n",
    "    if val-y[i+1] >= 7.5e-2:\n",
    "        continue\n",
    "    if val<=yBig/2:\n",
    "        pontosx.append(x[i])\n",
    "        pontosy.append(y[i])\n",
    "        break\n",
    "#print((-pontosx[0]+pontosx[1])/1e-6)\n",
    "'''plt.plot(x,y)\n",
    "plt.grid(True)\n",
    "plt.scatter(pontosx,pontosy)\n",
    "plt.show()'''\n",
    "t = t_meio(x[36:1800],y[36:1800],7)\n",
    "t2 = t_meio(x[36:1800],y[36:1800],7,True)\n",
    "tmeio = M((sts.mean(t),sts.stdev(t)), 's')\n",
    "tterco = M((sts.mean(t2),sts.stdev(t2)), 's')\n",
    "print(t)\n",
    "print(tmeio/1e-6)\n",
    "print('-------------')\n",
    "print(t2)\n",
    "print(tterco/1e-6)"
   ]
  },
  {
   "cell_type": "code",
   "execution_count": 74,
   "id": "ad77dd28",
   "metadata": {},
   "outputs": [
    {
     "name": "stdout",
     "output_type": "stream",
     "text": [
      "[ 2.84070819e+14 -6.36276003e+11  5.19826112e+08 -1.85643663e+05\n",
      "  2.51913879e+01]\n"
     ]
    },
    {
     "data": {
      "image/png": "[encoded data removed]",
      "text/plain": [
       "<Figure size 640x480 with 1 Axes>"
      ]
     },
     "metadata": {},
     "output_type": "display_data"
    }
   ],
   "source": [
    "x,y = dados('scope_7_1.csv')\n",
    "\n",
    "init = 35\n",
    "end = 1650\n",
    "\n",
    "x = np.array(x[init:end])-min(x)\n",
    "y = np.array(y[init:end])-min(y)\n",
    "\n",
    "params = np.polyfit(x,y,4)\n",
    "\n",
    "def f(x,par):\n",
    "    return par[0]*x**4 + par[1]*x**3 + par[2]*x**2 + par[3]*x + par[4]\n",
    "\n",
    "print(params)\n",
    "\n",
    "plt.plot(x,y)\n",
    "plt.plot(x,[f(i,params) for i in x])\n",
    "plt.grid(True)\n",
    "plt.show()"
   ]
  },
  {
   "cell_type": "code",
   "execution_count": null,
   "id": "a4a6986a",
   "metadata": {},
   "outputs": [],
   "source": [
    "x,y = dados('resistorWave.csv')\n",
    "\n",
    "init = 963 \n",
    "end = 1453\n",
    "\n",
    "x = (np.array(x[init:end]))/1e-3\n",
    "y = np.array(y[init:end])\n",
    "\n",
    "para, _ = curve_fit(exponential,x,y,p0=[15,1e-1,0])\n",
    "\n",
    "print(para)\n",
    "\n",
    "plt.plot(x,y,label='Dados Coletados')\n",
    "plt.plot(x,[exponential(i,para[0],para[1],para[2]) for i in x],label='Melhor Curva')\n",
    "plt.legend()\n",
    "plt.grid(True)\n",
    "ax = plt.gca()\n",
    "ax.axhline(0, color='black', linewidth=1.1)  # y = 0\n",
    "ax.axvline(0, color='black', linewidth=1.1)  # x = 0\n",
    "plt.xlabel('Tempo (ms)')\n",
    "plt.ylabel('Voltagem (V)')\n",
    "plt.savefig('resistorOtimizado.png')\n",
    "plt.show()"
   ]
  },
  {
   "cell_type": "code",
   "execution_count": null,
   "id": "77b3bd64",
   "metadata": {},
   "outputs": [],
   "source": [
    "parametrosResistor = [1.54066074e+01,1.05370914e-04,-1.91901066e-01]"
   ]
  },
  {
   "cell_type": "code",
   "execution_count": null,
   "id": "984441c7",
   "metadata": {},
   "outputs": [],
   "source": [
    "x,y = dados('capacitorWave.csv')\n",
    "\n",
    "x,y = np.array(x),np.array(y)\n",
    "\n",
    "plt.plot(x/200e-6,y)\n",
    "plt.xticks(range(-5,6))\n",
    "plt.yticks(range(-8,9,2))\n",
    "plt.xlabel('Tempo (200\\u03BCs/divisão)')\n",
    "plt.ylabel('Voltagem (1V/divisão)')\n",
    "#make the x=0 and y=0 bold\n",
    "ax = plt.gca()\n",
    "ax.axhline(0, color='black', linewidth=1.5)  # y = 0\n",
    "ax.axvline(0, color='black', linewidth=1.5)  # x = 0\n",
    "plt.grid(True)\n",
    "plt.savefig('capacitorWave.png')\n",
    "plt.show()"
   ]
  },
  {
   "cell_type": "code",
   "execution_count": null,
   "id": "1cbc1fc9",
   "metadata": {},
   "outputs": [],
   "source": [
    "x,y = dados('resistorWave.csv')\n",
    "\n",
    "x,y = np.array(x),np.array(y)\n",
    "\n",
    "plt.plot(x/200e-6,y/2)\n",
    "plt.xticks(range(-5,6))\n",
    "#plt.yticks(range(-8,9,2))\n",
    "plt.xlabel('Tempo (200\\u03BCs/divisão)')\n",
    "plt.ylabel('Voltagem (2V/divisão)')\n",
    "#make the x=0 and y=0 bold\n",
    "ax = plt.gca()\n",
    "ax.axhline(0, color='black', linewidth=1.5)  # y = 0\n",
    "ax.axvline(0, color='black', linewidth=1.5)  # x = 0\n",
    "plt.grid(True)\n",
    "plt.savefig('resistorWave.png')\n",
    "plt.show()"
   ]
  },
  {
   "cell_type": "code",
   "execution_count": null,
   "id": "87718943",
   "metadata": {},
   "outputs": [],
   "source": [
    "x,y = dados('trans_9_1.csv')\n",
    "\n",
    "x,y = np.array(x),np.array(y)\n",
    "\n",
    "plt.plot(x/5e-3,y)\n",
    "plt.xticks(np.linspace(-5,5,11))\n",
    "plt.yticks(np.linspace(-4,4,9))\n",
    "plt.xlabel('Tempo (5ms/divisão)')\n",
    "plt.ylabel('Voltagem (1V/divisão)')\n",
    "#make the x=0 and y=0 bold\n",
    "ax = plt.gca()\n",
    "ax.axhline(0, color='black', linewidth=2)  # y = 0\n",
    "ax.axvline(0, color='black', linewidth=2)  # x = 0\n",
    "plt.grid(True)\n",
    "plt.savefig('trans.png')\n",
    "plt.show()"
   ]
  },
  {
   "cell_type": "code",
   "execution_count": 54,
   "id": "5190e625",
   "metadata": {},
   "outputs": [
    {
     "name": "stdout",
     "output_type": "stream",
     "text": [
      "[ 27.38041494   0.10656639 -12.21107463]\n"
     ]
    },
    {
     "data": {
      "image/png": "[encoded data removed]",
      "text/plain": [
       "<Figure size 640x480 with 1 Axes>"
      ]
     },
     "metadata": {},
     "output_type": "display_data"
    }
   ],
   "source": [
    "x,y = dados('scope_7_1.csv')\n",
    "\n",
    "init = 35\n",
    "end = 1650\n",
    "\n",
    "x = (np.array(x[init:end])-min(x))/1e-3\n",
    "y = np.array(y[init:end])\n",
    "\n",
    "x = np.ravel(x)\n",
    "y = np.ravel(y)\n",
    "\n",
    "parameters, _ = curve_fit(exponential,x,y,p0=[10,1e-1,0])\n",
    "\n",
    "print(parameters)\n",
    "\n",
    "plt.plot(x,y,label='Gráfico dos pontos')\n",
    "plt.plot(x,[exponential(i,parameters[0],parameters[1],parameters[2]) for i in x],label='Curva otimizada')\n",
    "ax = plt.gca()\n",
    "ax.axhline(0, color='black', linewidth=1.2)  # y = 0\n",
    "ax.axvline(0, color='black', linewidth=1.2)  # x = 0\n",
    "plt.xlabel('Tempo (ms)')\n",
    "plt.ylabel('Voltagem (V)')\n",
    "plt.grid(True)\n",
    "plt.legend()\n",
    "#plt.savefig('capacitorOtimizado.png')\n",
    "plt.show()"
   ]
  }
 ],
 "metadata": {
  "kernelspec": {
   "display_name": "Python 3 (ipykernel)",
   "language": "python",
   "name": "python3"
  },
  "language_info": {
   "codemirror_mode": {
    "name": "ipython",
    "version": 3
   },
   "file_extension": ".py",
   "mimetype": "text/x-python",
   "name": "python",
   "nbconvert_exporter": "python",
   "pygments_lexer": "ipython3",
   "version": "3.10.6"
  }
 },
 "nbformat": 4,
 "nbformat_minor": 5
}
