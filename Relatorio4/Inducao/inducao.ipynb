{
 "cells": [
  {
   "cell_type": "markdown",
   "id": "96fea4c5",
   "metadata": {},
   "source": [
    "### Relação dos Nomes dos Arquivos\n",
    "\n",
    "Canal 1: Resistor\n",
    "\n",
    "Canal 2: Sensor Hall e Bobina\n",
    "\n",
    "- scope_0.csv: Onda senoidal e frequência de 100Hz com Sensor Hall\n",
    "- scope_1.csv: Onda triangular e frequência de 100Hz com Sensor Hall\n",
    "- scope_2.csv: Onda quadrada e frequência de 100Hz com Sensor Hall\n",
    "- scope_3.csv: Onda quadrada e frequência de 100Hz com Sensor Hall (fizemos duas vezes)\n",
    "- scope_4.csv: Onda senoidal e freq. 100Hz com bobina\n",
    "- scope_5.csv: Onda triangular e freq. 100Hz com bobina (fizemos utilizando a média como método de obtenção de pontos, ficava mais limpo o gráfico)\n",
    "- scope_6.csv: Onda Quadrada e freq. 100Hz com bobina\n",
    "- scope_7.csv: Onda senoidal e freq. 1_000Hz com bobina\n",
    "- scope_8.csv: Onda senoidal e freq. 2_000Hz com bobina\n",
    "- scope_9.csv: Onda senoidal e freq. 1_500Hz com bobina\n",
    "- scope_10.csv: Onda senoidal e freq. 500Hz com bobina\n",
    "- ucope_0.csv: Aproximação da onda quadrada com freq. 1_000Hz e bobina"
   ]
  },
  {
   "cell_type": "code",
   "execution_count": 1,
   "id": "1006a284",
   "metadata": {},
   "outputs": [],
   "source": [
    "#Importações\n",
    "import matplotlib.pyplot as plt\n",
    "import numpy as np\n",
    "import pandas as pd\n",
    "from LabIFSC import *"
   ]
  },
  {
   "cell_type": "code",
   "execution_count": null,
   "id": "4547383d",
   "metadata": {},
   "outputs": [],
   "source": [
    "#Puxando arquivos csv"
   ]
  },
  {
   "cell_type": "code",
   "execution_count": 2,
   "id": "8b098510",
   "metadata": {},
   "outputs": [],
   "source": [
    "#Dados\n",
    "espirasBobinaG = None\n",
    "compBobinaG = None\n",
    "diamBobinaG = None\n",
    "espirasBobinaP = None\n",
    "compBobinaP = None\n",
    "diamBobinaP = None\n",
    "\n",
    "R = None"
   ]
  }
 ],
 "metadata": {
  "kernelspec": {
   "display_name": "Python 3 (ipykernel)",
   "language": "python",
   "name": "python3"
  },
  "language_info": {
   "codemirror_mode": {
    "name": "ipython",
    "version": 3
   },
   "file_extension": ".py",
   "mimetype": "text/x-python",
   "name": "python",
   "nbconvert_exporter": "python",
   "pygments_lexer": "ipython3",
   "version": "3.10.6"
  }
 },
 "nbformat": 4,
 "nbformat_minor": 5
}
