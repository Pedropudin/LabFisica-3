{
 "cells": [
  {
   "cell_type": "code",
   "execution_count": 1,
   "id": "738ca69d",
   "metadata": {},
   "outputs": [],
   "source": [
    "#Importações\n",
    "import matplotlib.pyplot as plt\n",
    "import numpy as np\n",
    "import pandas as pd\n",
    "from LabIFSC import *"
   ]
  },
  {
   "cell_type": "code",
   "execution_count": null,
   "id": "5849ff80",
   "metadata": {},
   "outputs": [],
   "source": [
    "#Puxando arquivos csv"
   ]
  },
  {
   "cell_type": "code",
   "execution_count": 2,
   "id": "2cf20d1b",
   "metadata": {},
   "outputs": [],
   "source": [
    "#Dados\n",
    "espirasBobinaG = None\n",
    "compBobinaG = None\n",
    "diamBobinaG = None\n",
    "espirasBobinaP = None\n",
    "compBobinaP = None\n",
    "diamBobinaP = None\n",
    "\n",
    "R = None"
   ]
  }
 ],
 "metadata": {
  "kernelspec": {
   "display_name": "Python 3 (ipykernel)",
   "language": "python",
   "name": "python3"
  },
  "language_info": {
   "codemirror_mode": {
    "name": "ipython",
    "version": 3
   },
   "file_extension": ".py",
   "mimetype": "text/x-python",
   "name": "python",
   "nbconvert_exporter": "python",
   "pygments_lexer": "ipython3",
   "version": "3.10.6"
  }
 },
 "nbformat": 4,
 "nbformat_minor": 5
}
